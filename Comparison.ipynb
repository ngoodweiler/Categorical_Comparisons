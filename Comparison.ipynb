{
 "cells": [
  {
   "cell_type": "code",
   "execution_count": 3,
   "metadata": {},
   "outputs": [],
   "source": [
    "# Load dependencies\n",
    "import pandas as pd\n",
    "import numpy as np\n",
    "import matplotlib.pyplot as plt"
   ]
  },
  {
   "cell_type": "code",
   "execution_count": 7,
   "metadata": {},
   "outputs": [],
   "source": [
    "model_type = ['Decision Tree','Random Forest','KNN','Naive Bayes','SVM-Linear','SVM-Poly','SVM-RBF']\n",
    "nfeatures = [6,9,9,9,9,9,9]\n",
    "model_score = [0.516,0.742,0.645,0.677,0.677,0.645,0.726]\n",
    "interpretability = ['High','Medium','Medium-High','Medium','Low-Medium','Low-Medium','Low']\n",
    "df_columns = ['Model','Number of Features','Score','Interpretability']"
   ]
  },
  {
   "cell_type": "code",
   "execution_count": 9,
   "metadata": {},
   "outputs": [
    {
     "data": {
      "text/html": [
       "<div>\n",
       "<style scoped>\n",
       "    .dataframe tbody tr th:only-of-type {\n",
       "        vertical-align: middle;\n",
       "    }\n",
       "\n",
       "    .dataframe tbody tr th {\n",
       "        vertical-align: top;\n",
       "    }\n",
       "\n",
       "    .dataframe thead th {\n",
       "        text-align: right;\n",
       "    }\n",
       "</style>\n",
       "<table border=\"1\" class=\"dataframe\">\n",
       "  <thead>\n",
       "    <tr style=\"text-align: right;\">\n",
       "      <th></th>\n",
       "      <th>Model</th>\n",
       "      <th>Number of Features</th>\n",
       "      <th>Score</th>\n",
       "      <th>Interpretability</th>\n",
       "    </tr>\n",
       "  </thead>\n",
       "  <tbody>\n",
       "    <tr>\n",
       "      <th>1</th>\n",
       "      <td>Random Forest</td>\n",
       "      <td>9</td>\n",
       "      <td>0.742</td>\n",
       "      <td>Medium</td>\n",
       "    </tr>\n",
       "    <tr>\n",
       "      <th>6</th>\n",
       "      <td>SVM-RBF</td>\n",
       "      <td>9</td>\n",
       "      <td>0.726</td>\n",
       "      <td>Low</td>\n",
       "    </tr>\n",
       "    <tr>\n",
       "      <th>3</th>\n",
       "      <td>Naive Bayes</td>\n",
       "      <td>9</td>\n",
       "      <td>0.677</td>\n",
       "      <td>Medium</td>\n",
       "    </tr>\n",
       "    <tr>\n",
       "      <th>4</th>\n",
       "      <td>SVM-Linear</td>\n",
       "      <td>9</td>\n",
       "      <td>0.677</td>\n",
       "      <td>Low-Medium</td>\n",
       "    </tr>\n",
       "    <tr>\n",
       "      <th>2</th>\n",
       "      <td>KNN</td>\n",
       "      <td>9</td>\n",
       "      <td>0.645</td>\n",
       "      <td>Medium-High</td>\n",
       "    </tr>\n",
       "    <tr>\n",
       "      <th>5</th>\n",
       "      <td>SVM-Poly</td>\n",
       "      <td>9</td>\n",
       "      <td>0.645</td>\n",
       "      <td>Low-Medium</td>\n",
       "    </tr>\n",
       "    <tr>\n",
       "      <th>0</th>\n",
       "      <td>Decision Tree</td>\n",
       "      <td>6</td>\n",
       "      <td>0.516</td>\n",
       "      <td>High</td>\n",
       "    </tr>\n",
       "  </tbody>\n",
       "</table>\n",
       "</div>"
      ],
      "text/plain": [
       "           Model  Number of Features  Score Interpretability\n",
       "1  Random Forest                   9  0.742           Medium\n",
       "6        SVM-RBF                   9  0.726              Low\n",
       "3    Naive Bayes                   9  0.677           Medium\n",
       "4     SVM-Linear                   9  0.677       Low-Medium\n",
       "2            KNN                   9  0.645      Medium-High\n",
       "5       SVM-Poly                   9  0.645       Low-Medium\n",
       "0  Decision Tree                   6  0.516             High"
      ]
     },
     "execution_count": 9,
     "metadata": {},
     "output_type": "execute_result"
    }
   ],
   "source": [
    "comparison_df = pd.DataFrame(\n",
    "    list(zip(model_type,nfeatures,model_score,interpretability)),\n",
    "    columns=df_columns)\n",
    "comparison_df.sort_values('Score',ascending=False)"
   ]
  },
  {
   "cell_type": "markdown",
   "metadata": {},
   "source": [
    "Comparing the 7 different models, Random Forest and SVM-RBF performed the best with scores of 0.742 and 0.726, respectively. A request by the client is to have a model that is easy to interpret if possible, and a Random Forest model allows the final decision tree to be displayed, yielding a higher interpretability than an RBF model."
   ]
  },
  {
   "cell_type": "code",
   "execution_count": null,
   "metadata": {},
   "outputs": [],
   "source": []
  }
 ],
 "metadata": {
  "kernelspec": {
   "display_name": "Python 3 (ipykernel)",
   "language": "python",
   "name": "python3"
  },
  "language_info": {
   "codemirror_mode": {
    "name": "ipython",
    "version": 3
   },
   "file_extension": ".py",
   "mimetype": "text/x-python",
   "name": "python",
   "nbconvert_exporter": "python",
   "pygments_lexer": "ipython3",
   "version": "3.9.12"
  }
 },
 "nbformat": 4,
 "nbformat_minor": 2
}
