{
 "cells": [
  {
   "cell_type": "code",
   "execution_count": 1,
   "metadata": {},
   "outputs": [],
   "source": [
    "# Load dependencies\n",
    "import pandas as pd\n",
    "pd.options.mode.chained_assignment = None\n",
    "import numpy as np\n",
    "import matplotlib.pyplot as plt\n",
    "from sklearn.model_selection import train_test_split"
   ]
  },
  {
   "cell_type": "code",
   "execution_count": 2,
   "metadata": {},
   "outputs": [
    {
     "name": "stdout",
     "output_type": "stream",
     "text": [
      "<class 'pandas.core.frame.DataFrame'>\n",
      "RangeIndex: 462 entries, 0 to 461\n",
      "Data columns (total 27 columns):\n",
      "step02h_eqparamA       462 non-null object\n",
      "step02t_eqparamA       462 non-null object\n",
      "step03h_eqparamA       462 non-null object\n",
      "step03t_eqparamA       462 non-null object\n",
      "step04h_eqparamA       462 non-null object\n",
      "step04t_eqparamA       462 non-null object\n",
      "step05h_eqparamA       462 non-null object\n",
      "step05t_eqparamA       462 non-null object\n",
      "step08h_eqparamA       462 non-null object\n",
      "step10h_eqparamA       462 non-null object\n",
      "step12h_eqparamA       462 non-null object\n",
      "system_eqparamA        462 non-null object\n",
      "step01at_eqparamB      462 non-null object\n",
      "step01bt_eqparamB      462 non-null object\n",
      "step02t_eqparamB       462 non-null object\n",
      "step04t_eqparamB       462 non-null object\n",
      "step05t_eqparamB       462 non-null object\n",
      "step01h_reagparamA     462 non-null object\n",
      "step01at_reagparamA    462 non-null object\n",
      "step01bt_reagparamA    462 non-null object\n",
      "step03h_reagparamB     462 non-null object\n",
      "step03t_reagparamB     462 non-null object\n",
      "system_eqparamC        462 non-null object\n",
      "system_reageparamC     462 non-null object\n",
      "system_eqparamD        462 non-null object\n",
      "system_state           462 non-null object\n",
      "system_result          251 non-null float64\n",
      "dtypes: float64(1), object(26)\n",
      "memory usage: 97.6+ KB\n"
     ]
    }
   ],
   "source": [
    "# Load dataset from CSV\n",
    "data = pd.read_csv('Resources/SystemData.csv').drop('date', axis='columns')\n",
    "data.info()"
   ]
  },
  {
   "cell_type": "code",
   "execution_count": 3,
   "metadata": {},
   "outputs": [
    {
     "name": "stdout",
     "output_type": "stream",
     "text": [
      "<class 'pandas.core.frame.DataFrame'>\n",
      "RangeIndex: 462 entries, 0 to 461\n",
      "Data columns (total 27 columns):\n",
      "step02h_eqparamA       316 non-null float64\n",
      "step02t_eqparamA       316 non-null float64\n",
      "step03h_eqparamA       316 non-null float64\n",
      "step03t_eqparamA       316 non-null float64\n",
      "step04h_eqparamA       316 non-null float64\n",
      "step04t_eqparamA       316 non-null float64\n",
      "step05h_eqparamA       316 non-null float64\n",
      "step05t_eqparamA       316 non-null float64\n",
      "step08h_eqparamA       316 non-null float64\n",
      "step10h_eqparamA       316 non-null float64\n",
      "step12h_eqparamA       316 non-null float64\n",
      "system_eqparamA        316 non-null float64\n",
      "step01at_eqparamB      316 non-null float64\n",
      "step01bt_eqparamB      316 non-null float64\n",
      "step02t_eqparamB       316 non-null float64\n",
      "step04t_eqparamB       316 non-null float64\n",
      "step05t_eqparamB       316 non-null float64\n",
      "step01h_reagparamA     316 non-null float64\n",
      "step01at_reagparamA    316 non-null float64\n",
      "step01bt_reagparamA    316 non-null float64\n",
      "step03h_reagparamB     315 non-null float64\n",
      "step03t_reagparamB     316 non-null float64\n",
      "system_eqparamC        316 non-null float64\n",
      "system_reageparamC     313 non-null float64\n",
      "system_eqparamD        316 non-null float64\n",
      "system_state           461 non-null float64\n",
      "system_result          251 non-null float64\n",
      "dtypes: float64(27)\n",
      "memory usage: 97.6 KB\n"
     ]
    }
   ],
   "source": [
    "# Replace NaN to explicit NaN that can be\n",
    "data = data.apply(pd.to_numeric, errors='coerce')\n",
    "data.info()"
   ]
  },
  {
   "cell_type": "code",
   "execution_count": 4,
   "metadata": {},
   "outputs": [
    {
     "name": "stdout",
     "output_type": "stream",
     "text": [
      "<class 'pandas.core.frame.DataFrame'>\n",
      "Int64Index: 246 entries, 0 to 456\n",
      "Data columns (total 27 columns):\n",
      "step02h_eqparamA       246 non-null float64\n",
      "step02t_eqparamA       246 non-null float64\n",
      "step03h_eqparamA       246 non-null float64\n",
      "step03t_eqparamA       246 non-null float64\n",
      "step04h_eqparamA       246 non-null float64\n",
      "step04t_eqparamA       246 non-null float64\n",
      "step05h_eqparamA       246 non-null float64\n",
      "step05t_eqparamA       246 non-null float64\n",
      "step08h_eqparamA       246 non-null float64\n",
      "step10h_eqparamA       246 non-null float64\n",
      "step12h_eqparamA       246 non-null float64\n",
      "system_eqparamA        246 non-null float64\n",
      "step01at_eqparamB      246 non-null float64\n",
      "step01bt_eqparamB      246 non-null float64\n",
      "step02t_eqparamB       246 non-null float64\n",
      "step04t_eqparamB       246 non-null float64\n",
      "step05t_eqparamB       246 non-null float64\n",
      "step01h_reagparamA     246 non-null float64\n",
      "step01at_reagparamA    246 non-null float64\n",
      "step01bt_reagparamA    246 non-null float64\n",
      "step03h_reagparamB     246 non-null float64\n",
      "step03t_reagparamB     246 non-null float64\n",
      "system_eqparamC        246 non-null float64\n",
      "system_reageparamC     246 non-null float64\n",
      "system_eqparamD        246 non-null float64\n",
      "system_state           246 non-null float64\n",
      "system_result          246 non-null float64\n",
      "dtypes: float64(27)\n",
      "memory usage: 53.8 KB\n"
     ]
    }
   ],
   "source": [
    "# Drop Na rows\n",
    "data = data.dropna()\n",
    "data.info()"
   ]
  },
  {
   "cell_type": "code",
   "execution_count": 5,
   "metadata": {},
   "outputs": [
    {
     "data": {
      "image/png": "[encoded data removed]",
      "text/plain": [
       "<Figure size 432x288 with 1 Axes>"
      ]
     },
     "metadata": {
      "needs_background": "light"
     },
     "output_type": "display_data"
    }
   ],
   "source": [
    "# Examine the system_result histogram to determine if outliers need to be identified/removed\n",
    "plt.hist(data.system_result)\n",
    "plt.show()"
   ]
  },
  {
   "cell_type": "code",
   "execution_count": 6,
   "metadata": {},
   "outputs": [
    {
     "data": {
      "image/png": "[encoded data removed]",
      "text/plain": [
       "<Figure size 432x288 with 1 Axes>"
      ]
     },
     "metadata": {
      "needs_background": "light"
     },
     "output_type": "display_data"
    },
    {
     "name": "stdout",
     "output_type": "stream",
     "text": [
      "Train mean: 0.35451086956521743 StDev: 0.07057747664145972\n",
      "Test mean: 0.359032258064516 StDev: 0.08401228788771933\n"
     ]
    }
   ],
   "source": [
    "# No clear outliers, splitting data and checking plots to ensure split is valid\n",
    "X = data.drop('system_result', 1)\n",
    "y = data.system_result\n",
    "X_train, X_test, y_train, y_test = train_test_split(X, y, random_state=3)\n",
    "plt.hist(y_train, alpha=0.5, label='Train')\n",
    "plt.hist(y_test, alpha=0.5, label='Test')\n",
    "plt.show()\n",
    "print('Train mean:',y_train.mean(),'StDev:',y_train.std())\n",
    "print('Test mean:',y_test.mean(),'StDev:',y_test.std())"
   ]
  },
  {
   "cell_type": "code",
   "execution_count": 7,
   "metadata": {},
   "outputs": [],
   "source": [
    "# Set y train and test to categories\n",
    "y_train_cat = []\n",
    "y_train_array = y_train.values\n",
    "for i in range(len(y_train_array)):\n",
    "    if y_train_array[i] <= 0.35:\n",
    "        cat = 'Good'\n",
    "    elif 0.37 < y_train_array[i] < 0.40:\n",
    "        cat = 'Warning'\n",
    "    else: \n",
    "        cat = 'Bad'\n",
    "    y_train_cat.append(cat)"
   ]
  },
  {
   "cell_type": "code",
   "execution_count": 8,
   "metadata": {},
   "outputs": [],
   "source": [
    "# Set y train and test to categories\n",
    "y_test_cat = []\n",
    "y_test_array = y_test.values\n",
    "for i in range(len(y_test_array)):\n",
    "    if y_test_array[i] <= 0.35:\n",
    "        cat = 'Good'\n",
    "    elif 0.37 < y_test_array[i] < 0.40:\n",
    "        cat = 'Warning'\n",
    "    else: \n",
    "        cat = 'Bad'\n",
    "    y_test_cat.append(cat)"
   ]
  },
  {
   "cell_type": "code",
   "execution_count": 9,
   "metadata": {},
   "outputs": [],
   "source": [
    "# Insert y back into X to export split and cleaned dataframes\n",
    "X_train['system_result'] = y_train_cat\n",
    "data_train = X_train\n",
    "X_test['system_result'] = y_test_cat\n",
    "data_test = X_test"
   ]
  },
  {
   "cell_type": "code",
   "execution_count": 10,
   "metadata": {},
   "outputs": [],
   "source": [
    "data_train.to_csv('Resources/data_train.csv')\n",
    "data_test.to_csv('Resources/data_test.csv')"
   ]
  },
  {
   "cell_type": "code",
   "execution_count": null,
   "metadata": {},
   "outputs": [],
   "source": []
  }
 ],
 "metadata": {
  "kernelspec": {
   "display_name": "Python 3 (ipykernel)",
   "language": "python",
   "name": "python3"
  },
  "language_info": {
   "codemirror_mode": {
    "name": "ipython",
    "version": 3
   },
   "file_extension": ".py",
   "mimetype": "text/x-python",
   "name": "python",
   "nbconvert_exporter": "python",
   "pygments_lexer": "ipython3",
   "version": "3.9.12"
  }
 },
 "nbformat": 4,
 "nbformat_minor": 2
}
