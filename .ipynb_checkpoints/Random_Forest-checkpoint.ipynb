{
 "cells": [
  {
   "cell_type": "code",
   "execution_count": 1,
   "metadata": {},
   "outputs": [],
   "source": [
    "# Load dependencies\n",
    "import pandas as pd\n",
    "import numpy as np\n",
    "import matplotlib.pyplot as plt\n",
    "from sklearn.ensemble import RandomForestClassifier"
   ]
  },
  {
   "cell_type": "code",
   "execution_count": 2,
   "metadata": {},
   "outputs": [],
   "source": [
    "# Load Train and Test datasets\n",
    "data_train = pd.read_csv('Resources/data_train.csv', index_col=0)\n",
    "data_test = pd.read_csv('Resources/data_test.csv', index_col=0)"
   ]
  },
  {
   "cell_type": "code",
   "execution_count": 3,
   "metadata": {},
   "outputs": [
    {
     "data": {
      "text/html": [
       "<div>\n",
       "<style scoped>\n",
       "    .dataframe tbody tr th:only-of-type {\n",
       "        vertical-align: middle;\n",
       "    }\n",
       "\n",
       "    .dataframe tbody tr th {\n",
       "        vertical-align: top;\n",
       "    }\n",
       "\n",
       "    .dataframe thead th {\n",
       "        text-align: right;\n",
       "    }\n",
       "</style>\n",
       "<table border=\"1\" class=\"dataframe\">\n",
       "  <thead>\n",
       "    <tr style=\"text-align: right;\">\n",
       "      <th></th>\n",
       "      <th>step02h_eqparamA</th>\n",
       "      <th>step02t_eqparamA</th>\n",
       "      <th>step03h_eqparamA</th>\n",
       "      <th>step03t_eqparamA</th>\n",
       "      <th>step04h_eqparamA</th>\n",
       "      <th>step04t_eqparamA</th>\n",
       "      <th>step05h_eqparamA</th>\n",
       "      <th>step05t_eqparamA</th>\n",
       "      <th>step08h_eqparamA</th>\n",
       "      <th>step10h_eqparamA</th>\n",
       "      <th>...</th>\n",
       "      <th>step05t_eqparamB</th>\n",
       "      <th>step01h_reagparamA</th>\n",
       "      <th>step01at_reagparamA</th>\n",
       "      <th>step01bt_reagparamA</th>\n",
       "      <th>step03h_reagparamB</th>\n",
       "      <th>step03t_reagparamB</th>\n",
       "      <th>system_eqparamC</th>\n",
       "      <th>system_reageparamC</th>\n",
       "      <th>system_eqparamD</th>\n",
       "      <th>system_state</th>\n",
       "    </tr>\n",
       "  </thead>\n",
       "  <tbody>\n",
       "    <tr>\n",
       "      <td>204</td>\n",
       "      <td>10.206160</td>\n",
       "      <td>5.269793</td>\n",
       "      <td>18.245564</td>\n",
       "      <td>14.571557</td>\n",
       "      <td>13.458512</td>\n",
       "      <td>2.689148</td>\n",
       "      <td>9.163512</td>\n",
       "      <td>1.951001</td>\n",
       "      <td>9.841448</td>\n",
       "      <td>10.359803</td>\n",
       "      <td>...</td>\n",
       "      <td>0.793088</td>\n",
       "      <td>26.269190</td>\n",
       "      <td>0.000000</td>\n",
       "      <td>0.000000</td>\n",
       "      <td>324.179591</td>\n",
       "      <td>350.000000</td>\n",
       "      <td>6.0</td>\n",
       "      <td>8.722018</td>\n",
       "      <td>4.397878</td>\n",
       "      <td>72.356881</td>\n",
       "    </tr>\n",
       "    <tr>\n",
       "      <td>288</td>\n",
       "      <td>11.594693</td>\n",
       "      <td>12.964035</td>\n",
       "      <td>22.000000</td>\n",
       "      <td>18.818674</td>\n",
       "      <td>18.696033</td>\n",
       "      <td>5.849144</td>\n",
       "      <td>16.851863</td>\n",
       "      <td>5.854144</td>\n",
       "      <td>14.000000</td>\n",
       "      <td>10.000000</td>\n",
       "      <td>...</td>\n",
       "      <td>0.659266</td>\n",
       "      <td>27.960881</td>\n",
       "      <td>5.000000</td>\n",
       "      <td>5.000000</td>\n",
       "      <td>350.000000</td>\n",
       "      <td>199.284751</td>\n",
       "      <td>9.0</td>\n",
       "      <td>7.011022</td>\n",
       "      <td>6.656041</td>\n",
       "      <td>129.070620</td>\n",
       "    </tr>\n",
       "    <tr>\n",
       "      <td>10</td>\n",
       "      <td>13.908432</td>\n",
       "      <td>9.577346</td>\n",
       "      <td>21.442433</td>\n",
       "      <td>17.182340</td>\n",
       "      <td>17.068098</td>\n",
       "      <td>3.270258</td>\n",
       "      <td>18.392727</td>\n",
       "      <td>4.670424</td>\n",
       "      <td>10.782260</td>\n",
       "      <td>11.961294</td>\n",
       "      <td>...</td>\n",
       "      <td>0.613816</td>\n",
       "      <td>18.719290</td>\n",
       "      <td>7.303457</td>\n",
       "      <td>5.237318</td>\n",
       "      <td>367.302272</td>\n",
       "      <td>364.291947</td>\n",
       "      <td>7.0</td>\n",
       "      <td>7.004696</td>\n",
       "      <td>5.696511</td>\n",
       "      <td>161.511362</td>\n",
       "    </tr>\n",
       "    <tr>\n",
       "      <td>343</td>\n",
       "      <td>12.587146</td>\n",
       "      <td>9.169558</td>\n",
       "      <td>23.169612</td>\n",
       "      <td>18.431346</td>\n",
       "      <td>15.830304</td>\n",
       "      <td>2.000000</td>\n",
       "      <td>15.636228</td>\n",
       "      <td>3.212020</td>\n",
       "      <td>12.000000</td>\n",
       "      <td>10.873549</td>\n",
       "      <td>...</td>\n",
       "      <td>0.759087</td>\n",
       "      <td>32.231470</td>\n",
       "      <td>4.900000</td>\n",
       "      <td>4.900000</td>\n",
       "      <td>325.692583</td>\n",
       "      <td>325.698341</td>\n",
       "      <td>6.0</td>\n",
       "      <td>6.897593</td>\n",
       "      <td>5.902288</td>\n",
       "      <td>120.920581</td>\n",
       "    </tr>\n",
       "    <tr>\n",
       "      <td>12</td>\n",
       "      <td>15.121956</td>\n",
       "      <td>11.482360</td>\n",
       "      <td>20.894701</td>\n",
       "      <td>18.202655</td>\n",
       "      <td>15.983783</td>\n",
       "      <td>2.901994</td>\n",
       "      <td>14.030560</td>\n",
       "      <td>2.848830</td>\n",
       "      <td>7.282235</td>\n",
       "      <td>8.266934</td>\n",
       "      <td>...</td>\n",
       "      <td>0.570682</td>\n",
       "      <td>22.622427</td>\n",
       "      <td>10.124394</td>\n",
       "      <td>6.764165</td>\n",
       "      <td>350.000000</td>\n",
       "      <td>300.000000</td>\n",
       "      <td>7.0</td>\n",
       "      <td>7.278901</td>\n",
       "      <td>5.216746</td>\n",
       "      <td>103.095827</td>\n",
       "    </tr>\n",
       "  </tbody>\n",
       "</table>\n",
       "<p>5 rows × 26 columns</p>\n",
       "</div>"
      ],
      "text/plain": [
       "     step02h_eqparamA  step02t_eqparamA  step03h_eqparamA  step03t_eqparamA  \\\n",
       "204         10.206160          5.269793         18.245564         14.571557   \n",
       "288         11.594693         12.964035         22.000000         18.818674   \n",
       "10          13.908432          9.577346         21.442433         17.182340   \n",
       "343         12.587146          9.169558         23.169612         18.431346   \n",
       "12          15.121956         11.482360         20.894701         18.202655   \n",
       "\n",
       "     step04h_eqparamA  step04t_eqparamA  step05h_eqparamA  step05t_eqparamA  \\\n",
       "204         13.458512          2.689148          9.163512          1.951001   \n",
       "288         18.696033          5.849144         16.851863          5.854144   \n",
       "10          17.068098          3.270258         18.392727          4.670424   \n",
       "343         15.830304          2.000000         15.636228          3.212020   \n",
       "12          15.983783          2.901994         14.030560          2.848830   \n",
       "\n",
       "     step08h_eqparamA  step10h_eqparamA  ...  step05t_eqparamB  \\\n",
       "204          9.841448         10.359803  ...          0.793088   \n",
       "288         14.000000         10.000000  ...          0.659266   \n",
       "10          10.782260         11.961294  ...          0.613816   \n",
       "343         12.000000         10.873549  ...          0.759087   \n",
       "12           7.282235          8.266934  ...          0.570682   \n",
       "\n",
       "     step01h_reagparamA  step01at_reagparamA  step01bt_reagparamA  \\\n",
       "204           26.269190             0.000000             0.000000   \n",
       "288           27.960881             5.000000             5.000000   \n",
       "10            18.719290             7.303457             5.237318   \n",
       "343           32.231470             4.900000             4.900000   \n",
       "12            22.622427            10.124394             6.764165   \n",
       "\n",
       "     step03h_reagparamB  step03t_reagparamB  system_eqparamC  \\\n",
       "204          324.179591          350.000000              6.0   \n",
       "288          350.000000          199.284751              9.0   \n",
       "10           367.302272          364.291947              7.0   \n",
       "343          325.692583          325.698341              6.0   \n",
       "12           350.000000          300.000000              7.0   \n",
       "\n",
       "     system_reageparamC  system_eqparamD  system_state  \n",
       "204            8.722018         4.397878     72.356881  \n",
       "288            7.011022         6.656041    129.070620  \n",
       "10             7.004696         5.696511    161.511362  \n",
       "343            6.897593         5.902288    120.920581  \n",
       "12             7.278901         5.216746    103.095827  \n",
       "\n",
       "[5 rows x 26 columns]"
      ]
     },
     "execution_count": 3,
     "metadata": {},
     "output_type": "execute_result"
    }
   ],
   "source": [
    "# Set target and data for train and test\n",
    "train_target = data_train.system_result\n",
    "train_data = data_train.drop('system_result', axis=1)\n",
    "test_target = data_test.system_result\n",
    "test_data = data_test.drop('system_result', axis=1)\n",
    "train_data.head()"
   ]
  },
  {
   "cell_type": "code",
   "execution_count": 4,
   "metadata": {},
   "outputs": [
    {
     "data": {
      "text/plain": [
       "0.7741935483870968"
      ]
     },
     "execution_count": 4,
     "metadata": {},
     "output_type": "execute_result"
    }
   ],
   "source": [
    "# Run the model using all features\n",
    "rf = RandomForestClassifier(n_estimators=500, random_state=3)\n",
    "rf = rf.fit(train_data, train_target)\n",
    "rf.score(test_data, test_target)"
   ]
  },
  {
   "cell_type": "code",
   "execution_count": 5,
   "metadata": {},
   "outputs": [
    {
     "data": {
      "text/plain": [
       "[(0.09138930751395671, 'step01bt_eqparamB'),\n",
       " (0.04883084336201897, 'step04t_eqparamB'),\n",
       " (0.04874465401895736, 'step05t_eqparamB'),\n",
       " (0.045077365247388666, 'step02t_eqparamA'),\n",
       " (0.04482626863010217, 'system_state'),\n",
       " (0.04229813603510717, 'step10h_eqparamA'),\n",
       " (0.04220963755689024, 'step02h_eqparamA'),\n",
       " (0.04060284630950979, 'step12h_eqparamA'),\n",
       " (0.04049299086312734, 'system_eqparamD'),\n",
       " (0.04033578044133264, 'step03t_eqparamA'),\n",
       " (0.03959257617056286, 'step02t_eqparamB'),\n",
       " (0.036773087612479306, 'system_reageparamC'),\n",
       " (0.03600458764671445, 'step01at_reagparamA'),\n",
       " (0.03528741268523562, 'step05t_eqparamA'),\n",
       " (0.03505612548784572, 'step05h_eqparamA'),\n",
       " (0.03479765628741092, 'step01at_eqparamB'),\n",
       " (0.034194106556704164, 'step08h_eqparamA'),\n",
       " (0.033876177030686475, 'step04h_eqparamA'),\n",
       " (0.033797130275527, 'step01h_reagparamA'),\n",
       " (0.031888138355461546, 'step03h_eqparamA'),\n",
       " (0.02940301861155584, 'step04t_eqparamA'),\n",
       " (0.02923514195249355, 'system_eqparamA'),\n",
       " (0.028177843689522683, 'step03t_reagparamB'),\n",
       " (0.026224790776215024, 'step03h_reagparamB'),\n",
       " (0.025943974631608534, 'step01bt_reagparamA'),\n",
       " (0.024940402251585236, 'system_eqparamC')]"
      ]
     },
     "execution_count": 5,
     "metadata": {},
     "output_type": "execute_result"
    }
   ],
   "source": [
    "# Examine feature importance to determine which features to remove\n",
    "feature_names = train_data.columns\n",
    "sorted(zip(rf.feature_importances_, feature_names), reverse=True)"
   ]
  },
  {
   "cell_type": "code",
   "execution_count": 6,
   "metadata": {},
   "outputs": [],
   "source": [
    "# Compared to the basic Descision Tree model, the features are much more evenly distributed in importance\n",
    "# 26 possible features, will loop through to determine which number of features yields the best score\n",
    "# Use sklearn SelectFromModel to retain best features\n",
    "from sklearn.feature_selection import SelectFromModel\n",
    "num_features = []\n",
    "scores = []\n",
    "for i in range(1,27):\n",
    "    rf = RandomForestClassifier(n_estimators=500, random_state=3)\n",
    "    fs = SelectFromModel(rf, max_features=i)\n",
    "    fs.fit(train_data, train_target)\n",
    "    train_data_fs = fs.transform(train_data)\n",
    "    test_data_fs = fs.transform(test_data)\n",
    "    rf.fit(train_data_fs, train_target)\n",
    "    num_features.append(i)\n",
    "    scores.append(rf.score(test_data_fs, test_target))"
   ]
  },
  {
   "cell_type": "code",
   "execution_count": 7,
   "metadata": {},
   "outputs": [
    {
     "data": {
      "text/plain": [
       "[(0.7903225806451613, 10),\n",
       " (0.7903225806451613, 9),\n",
       " (0.7580645161290323, 26),\n",
       " (0.7580645161290323, 25),\n",
       " (0.7580645161290323, 24),\n",
       " (0.7580645161290323, 23),\n",
       " (0.7580645161290323, 22),\n",
       " (0.7580645161290323, 21),\n",
       " (0.7580645161290323, 20),\n",
       " (0.7580645161290323, 19),\n",
       " (0.7580645161290323, 18),\n",
       " (0.7580645161290323, 17),\n",
       " (0.7580645161290323, 16),\n",
       " (0.7580645161290323, 15),\n",
       " (0.7580645161290323, 14),\n",
       " (0.7580645161290323, 13),\n",
       " (0.7580645161290323, 12),\n",
       " (0.7580645161290323, 11),\n",
       " (0.7419354838709677, 8),\n",
       " (0.7258064516129032, 7),\n",
       " (0.7258064516129032, 6),\n",
       " (0.6935483870967742, 5),\n",
       " (0.6129032258064516, 4),\n",
       " (0.6129032258064516, 2),\n",
       " (0.5967741935483871, 3),\n",
       " (0.5, 1)]"
      ]
     },
     "execution_count": 7,
     "metadata": {},
     "output_type": "execute_result"
    }
   ],
   "source": [
    "# From the data gathered, using 9 features yields the best result (tied with 10) and is still a managable number\n",
    "sorted(zip(scores, num_features), reverse=True)"
   ]
  },
  {
   "cell_type": "code",
   "execution_count": 8,
   "metadata": {},
   "outputs": [
    {
     "name": "stdout",
     "output_type": "stream",
     "text": [
      "score: 0.7903225806451613\n",
      "[(0.1665282238992734, 'step01bt_eqparamB'), (0.11646942164693973, 'system_state'), (0.11494192584697444, 'step05t_eqparamB'), (0.10474914339352913, 'step02t_eqparamA'), (0.10284232948567736, 'system_eqparamD'), (0.10282376379167599, 'step04t_eqparamB'), (0.09841413280293841, 'step02h_eqparamA'), (0.097132035178906, 'step10h_eqparamA'), (0.09609902395408551, 'step12h_eqparamA')]\n"
     ]
    }
   ],
   "source": [
    "# Run model with 9 features\n",
    "rf = RandomForestClassifier(n_estimators=500, random_state=3)\n",
    "fs = SelectFromModel(rf, max_features=9)\n",
    "fs.fit(train_data, train_target)\n",
    "train_data_fs = fs.transform(train_data)\n",
    "test_data_fs = fs.transform(test_data)\n",
    "rf.fit(train_data_fs, train_target)\n",
    "score = rf.score(test_data_fs, test_target)\n",
    "print(\"score:\",score)\n",
    "print(sorted(zip(rf.feature_importances_, train_data.loc[:,fs.get_support()].columns), reverse=True))"
   ]
  },
  {
   "cell_type": "code",
   "execution_count": 9,
   "metadata": {},
   "outputs": [
    {
     "data": {
      "text/plain": [
       "Index(['step02h_eqparamA', 'step02t_eqparamA', 'step10h_eqparamA',\n",
       "       'step12h_eqparamA', 'step01bt_eqparamB', 'step04t_eqparamB',\n",
       "       'step05t_eqparamB', 'system_eqparamD', 'system_state'],\n",
       "      dtype='object')"
      ]
     },
     "execution_count": 9,
     "metadata": {},
     "output_type": "execute_result"
    }
   ],
   "source": [
    "# Features remaining after feature selection\n",
    "train_data.loc[:,fs.get_support()].columns"
   ]
  },
  {
   "cell_type": "code",
   "execution_count": 10,
   "metadata": {},
   "outputs": [],
   "source": [
    "# Testing a few different n_estimators to select the best score with a static num_features\n",
    "num_estimators = []\n",
    "scores_estimators = []\n",
    "for i in [100, 250, 500, 750, 1000, 1500]:\n",
    "    rf = RandomForestClassifier(n_estimators=i, random_state=3)\n",
    "    fs = SelectFromModel(rf, max_features=6)\n",
    "    fs.fit(train_data, train_target)\n",
    "    train_data_fs = fs.transform(train_data)\n",
    "    test_data_fs = fs.transform(test_data)\n",
    "    rf.fit(train_data_fs, train_target)\n",
    "    num_estimators.append(i)\n",
    "    scores_estimators.append(rf.score(test_data_fs, test_target))"
   ]
  },
  {
   "cell_type": "code",
   "execution_count": 11,
   "metadata": {},
   "outputs": [
    {
     "data": {
      "text/plain": [
       "[(0.7419354838709677, 1500),\n",
       " (0.7419354838709677, 1000),\n",
       " (0.7419354838709677, 750),\n",
       " (0.7419354838709677, 250),\n",
       " (0.7258064516129032, 500),\n",
       " (0.6935483870967742, 100)]"
      ]
     },
     "execution_count": 11,
     "metadata": {},
     "output_type": "execute_result"
    }
   ],
   "source": [
    "# 250 estimators yields the same (and best) scores while being the lowest value\n",
    "sorted(zip(scores_estimators, num_estimators), reverse=True)"
   ]
  },
  {
   "cell_type": "code",
   "execution_count": 12,
   "metadata": {},
   "outputs": [
    {
     "name": "stdout",
     "output_type": "stream",
     "text": [
      "score: 0.7419354838709677\n",
      "[(0.16882284894553232, 'step01bt_eqparamB'), (0.1136524291150202, 'step05t_eqparamB'), (0.11335545563869416, 'system_state'), (0.11087564225310444, 'step04t_eqparamB'), (0.1086423779123633, 'step02t_eqparamA'), (0.10380803857448306, 'step02h_eqparamA'), (0.0984061038809053, 'step10h_eqparamA'), (0.09580751899414545, 'step12h_eqparamA'), (0.08662958468575181, 'step03t_eqparamA')]\n"
     ]
    }
   ],
   "source": [
    "# Run model with 9 features and 250 n_estimators\n",
    "rf = RandomForestClassifier(n_estimators=250, random_state=3)\n",
    "fs = SelectFromModel(rf, max_features=9)\n",
    "fs.fit(train_data, train_target)\n",
    "train_data_fs = fs.transform(train_data)\n",
    "test_data_fs = fs.transform(test_data)\n",
    "rf.fit(train_data_fs, train_target)\n",
    "score = rf.score(test_data_fs, test_target)\n",
    "print(\"score:\",score)\n",
    "print(sorted(zip(rf.feature_importances_, train_data.loc[:,fs.get_support()].columns), reverse=True))"
   ]
  },
  {
   "cell_type": "code",
   "execution_count": 13,
   "metadata": {},
   "outputs": [
    {
     "data": {
      "text/plain": [
       "Index(['step02h_eqparamA', 'step02t_eqparamA', 'step03t_eqparamA',\n",
       "       'step10h_eqparamA', 'step12h_eqparamA', 'step01bt_eqparamB',\n",
       "       'step04t_eqparamB', 'step05t_eqparamB', 'system_state'],\n",
       "      dtype='object')"
      ]
     },
     "execution_count": 13,
     "metadata": {},
     "output_type": "execute_result"
    }
   ],
   "source": [
    "# Features remaining after feature selection\n",
    "train_data.loc[:,fs.get_support()].columns"
   ]
  },
  {
   "cell_type": "code",
   "execution_count": 14,
   "metadata": {},
   "outputs": [
    {
     "name": "stdout",
     "output_type": "stream",
     "text": [
      "[[17  7  2]\n",
      " [ 2 29  2]\n",
      " [ 0  3  0]]\n",
      "              precision    recall  f1-score   support\n",
      "\n",
      "         Bad       0.89      0.65      0.76        26\n",
      "        Good       0.74      0.88      0.81        33\n",
      "     Warning       0.00      0.00      0.00         3\n",
      "\n",
      "    accuracy                           0.74        62\n",
      "   macro avg       0.55      0.51      0.52        62\n",
      "weighted avg       0.77      0.74      0.75        62\n",
      "\n"
     ]
    }
   ],
   "source": [
    "# classification report and confusion matrix\n",
    "from sklearn.metrics import classification_report, confusion_matrix\n",
    "target_pred = rf.predict(test_data_fs)\n",
    "print(confusion_matrix(test_target, target_pred))\n",
    "print(classification_report(test_target, target_pred))"
   ]
  },
  {
   "cell_type": "code",
   "execution_count": 15,
   "metadata": {},
   "outputs": [
    {
     "data": {
      "text/plain": [
       "['random_forest.sav']"
      ]
     },
     "execution_count": 15,
     "metadata": {},
     "output_type": "execute_result"
    }
   ],
   "source": [
    "# save fitted model to file\n",
    "import joblib\n",
    "filename = 'random_forest.sav'\n",
    "joblib.dump(rf, filename)"
   ]
  },
  {
   "cell_type": "code",
   "execution_count": null,
   "metadata": {},
   "outputs": [],
   "source": []
  }
 ],
 "metadata": {
  "kernelspec": {
   "display_name": "Python 3.7.4 64-bit ('base': conda)",
   "language": "python",
   "name": "python37464bitbaseconda34f9e325a37b4408960ead74bb6a9fbb"
  },
  "language_info": {
   "codemirror_mode": {
    "name": "ipython",
    "version": 3
   },
   "file_extension": ".py",
   "mimetype": "text/x-python",
   "name": "python",
   "nbconvert_exporter": "python",
   "pygments_lexer": "ipython3",
   "version": "3.7.4"
  }
 },
 "nbformat": 4,
 "nbformat_minor": 2
}
