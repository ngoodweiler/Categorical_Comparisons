{
 "cells": [
  {
   "cell_type": "code",
   "execution_count": 1,
   "metadata": {},
   "outputs": [],
   "source": [
    "# Load dependencies\n",
    "import pandas as pd\n",
    "import numpy as np\n",
    "import matplotlib.pyplot as plt\n",
    "from sklearn.naive_bayes import GaussianNB"
   ]
  },
  {
   "cell_type": "code",
   "execution_count": 11,
   "metadata": {},
   "outputs": [],
   "source": [
    "# Load Train and Test datasets\n",
    "data_train = pd.read_csv('Resources/data_train.csv', index_col=0)\n",
    "data_test = pd.read_csv('Resources/data_test.csv', index_col=0)"
   ]
  },
  {
   "cell_type": "code",
   "execution_count": 12,
   "metadata": {},
   "outputs": [],
   "source": [
    "# Using features from Random Forest model to reduce total number for NB model\n",
    "important_features = ['step02h_eqparamA', 'step02t_eqparamA', 'step03t_eqparamA',\n",
    "       'step10h_eqparamA', 'step12h_eqparamA', 'step01bt_eqparamB',\n",
    "       'step04t_eqparamB', 'step05t_eqparamB', 'system_state']"
   ]
  },
  {
   "cell_type": "code",
   "execution_count": 14,
   "metadata": {},
   "outputs": [
    {
     "data": {
      "text/html": [
       "<div>\n",
       "<style scoped>\n",
       "    .dataframe tbody tr th:only-of-type {\n",
       "        vertical-align: middle;\n",
       "    }\n",
       "\n",
       "    .dataframe tbody tr th {\n",
       "        vertical-align: top;\n",
       "    }\n",
       "\n",
       "    .dataframe thead th {\n",
       "        text-align: right;\n",
       "    }\n",
       "</style>\n",
       "<table border=\"1\" class=\"dataframe\">\n",
       "  <thead>\n",
       "    <tr style=\"text-align: right;\">\n",
       "      <th></th>\n",
       "      <th>step02h_eqparamA</th>\n",
       "      <th>step02t_eqparamA</th>\n",
       "      <th>step03t_eqparamA</th>\n",
       "      <th>step10h_eqparamA</th>\n",
       "      <th>step12h_eqparamA</th>\n",
       "      <th>step01bt_eqparamB</th>\n",
       "      <th>step04t_eqparamB</th>\n",
       "      <th>step05t_eqparamB</th>\n",
       "      <th>system_state</th>\n",
       "    </tr>\n",
       "  </thead>\n",
       "  <tbody>\n",
       "    <tr>\n",
       "      <td>204</td>\n",
       "      <td>10.206160</td>\n",
       "      <td>5.269793</td>\n",
       "      <td>14.571557</td>\n",
       "      <td>10.359803</td>\n",
       "      <td>9.275444</td>\n",
       "      <td>1.097459</td>\n",
       "      <td>0.727515</td>\n",
       "      <td>0.793088</td>\n",
       "      <td>72.356881</td>\n",
       "    </tr>\n",
       "    <tr>\n",
       "      <td>288</td>\n",
       "      <td>11.594693</td>\n",
       "      <td>12.964035</td>\n",
       "      <td>18.818674</td>\n",
       "      <td>10.000000</td>\n",
       "      <td>11.994222</td>\n",
       "      <td>1.422882</td>\n",
       "      <td>0.702225</td>\n",
       "      <td>0.659266</td>\n",
       "      <td>129.070620</td>\n",
       "    </tr>\n",
       "    <tr>\n",
       "      <td>10</td>\n",
       "      <td>13.908432</td>\n",
       "      <td>9.577346</td>\n",
       "      <td>17.182340</td>\n",
       "      <td>11.961294</td>\n",
       "      <td>8.390811</td>\n",
       "      <td>0.817278</td>\n",
       "      <td>0.668262</td>\n",
       "      <td>0.613816</td>\n",
       "      <td>161.511362</td>\n",
       "    </tr>\n",
       "    <tr>\n",
       "      <td>343</td>\n",
       "      <td>12.587146</td>\n",
       "      <td>9.169558</td>\n",
       "      <td>18.431346</td>\n",
       "      <td>10.873549</td>\n",
       "      <td>13.109344</td>\n",
       "      <td>1.476915</td>\n",
       "      <td>0.763383</td>\n",
       "      <td>0.759087</td>\n",
       "      <td>120.920581</td>\n",
       "    </tr>\n",
       "    <tr>\n",
       "      <td>12</td>\n",
       "      <td>15.121956</td>\n",
       "      <td>11.482360</td>\n",
       "      <td>18.202655</td>\n",
       "      <td>8.266934</td>\n",
       "      <td>4.686747</td>\n",
       "      <td>0.532814</td>\n",
       "      <td>0.598675</td>\n",
       "      <td>0.570682</td>\n",
       "      <td>103.095827</td>\n",
       "    </tr>\n",
       "  </tbody>\n",
       "</table>\n",
       "</div>"
      ],
      "text/plain": [
       "     step02h_eqparamA  step02t_eqparamA  step03t_eqparamA  step10h_eqparamA  \\\n",
       "204         10.206160          5.269793         14.571557         10.359803   \n",
       "288         11.594693         12.964035         18.818674         10.000000   \n",
       "10          13.908432          9.577346         17.182340         11.961294   \n",
       "343         12.587146          9.169558         18.431346         10.873549   \n",
       "12          15.121956         11.482360         18.202655          8.266934   \n",
       "\n",
       "     step12h_eqparamA  step01bt_eqparamB  step04t_eqparamB  step05t_eqparamB  \\\n",
       "204          9.275444           1.097459          0.727515          0.793088   \n",
       "288         11.994222           1.422882          0.702225          0.659266   \n",
       "10           8.390811           0.817278          0.668262          0.613816   \n",
       "343         13.109344           1.476915          0.763383          0.759087   \n",
       "12           4.686747           0.532814          0.598675          0.570682   \n",
       "\n",
       "     system_state  \n",
       "204     72.356881  \n",
       "288    129.070620  \n",
       "10     161.511362  \n",
       "343    120.920581  \n",
       "12     103.095827  "
      ]
     },
     "execution_count": 14,
     "metadata": {},
     "output_type": "execute_result"
    }
   ],
   "source": [
    "# Set target and data for train and test\n",
    "train_target = data_train.system_result\n",
    "train_data = data_train.loc[:,important_features]\n",
    "test_target = data_test.system_result\n",
    "test_data = data_test.loc[:,important_features]\n",
    "train_data.head()"
   ]
  },
  {
   "cell_type": "code",
   "execution_count": 15,
   "metadata": {},
   "outputs": [
    {
     "data": {
      "text/plain": [
       "0.6774193548387096"
      ]
     },
     "execution_count": 15,
     "metadata": {},
     "output_type": "execute_result"
    }
   ],
   "source": [
    "# Run the model using all features\n",
    "nb = GaussianNB()\n",
    "nb = nb.fit(train_data, train_target)\n",
    "nb.score(test_data, test_target)"
   ]
  },
  {
   "cell_type": "code",
   "execution_count": 16,
   "metadata": {},
   "outputs": [
    {
     "name": "stdout",
     "output_type": "stream",
     "text": [
      "[[18  7  1]\n",
      " [ 9 24  0]\n",
      " [ 0  3  0]]\n",
      "              precision    recall  f1-score   support\n",
      "\n",
      "         Bad       0.67      0.69      0.68        26\n",
      "        Good       0.71      0.73      0.72        33\n",
      "     Warning       0.00      0.00      0.00         3\n",
      "\n",
      "    accuracy                           0.68        62\n",
      "   macro avg       0.46      0.47      0.47        62\n",
      "weighted avg       0.66      0.68      0.67        62\n",
      "\n"
     ]
    }
   ],
   "source": [
    "# classification report and confusion matrix\n",
    "from sklearn.metrics import classification_report, confusion_matrix\n",
    "target_pred = nb.predict(test_data)\n",
    "print(confusion_matrix(test_target, target_pred))\n",
    "print(classification_report(test_target, target_pred))"
   ]
  },
  {
   "cell_type": "code",
   "execution_count": 17,
   "metadata": {},
   "outputs": [
    {
     "data": {
      "text/plain": [
       "['naive_bayes.sav']"
      ]
     },
     "execution_count": 17,
     "metadata": {},
     "output_type": "execute_result"
    }
   ],
   "source": [
    "# save fitted model to file\n",
    "import joblib\n",
    "filename = 'naive_bayes.sav'\n",
    "joblib.dump(nb, filename)"
   ]
  },
  {
   "cell_type": "code",
   "execution_count": null,
   "metadata": {},
   "outputs": [],
   "source": []
  }
 ],
 "metadata": {
  "kernelspec": {
   "display_name": "Python 3.7.4 64-bit ('base': conda)",
   "language": "python",
   "name": "python37464bitbaseconda34f9e325a37b4408960ead74bb6a9fbb"
  },
  "language_info": {
   "codemirror_mode": {
    "name": "ipython",
    "version": 3
   },
   "file_extension": ".py",
   "mimetype": "text/x-python",
   "name": "python",
   "nbconvert_exporter": "python",
   "pygments_lexer": "ipython3",
   "version": "3.7.4"
  }
 },
 "nbformat": 4,
 "nbformat_minor": 2
}
