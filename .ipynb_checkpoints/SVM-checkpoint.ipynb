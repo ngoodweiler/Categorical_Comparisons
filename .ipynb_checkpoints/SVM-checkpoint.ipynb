{
 "cells": [
  {
   "cell_type": "code",
   "execution_count": 1,
   "metadata": {},
   "outputs": [],
   "source": [
    "# Load dependencies\n",
    "import pandas as pd\n",
    "import numpy as np\n",
    "import matplotlib.pyplot as plt\n",
    "from sklearn.svm import SVC\n",
    "from sklearn.preprocessing import StandardScaler, LabelEncoder\n",
    "from sklearn.metrics import classification_report"
   ]
  },
  {
   "cell_type": "code",
   "execution_count": 2,
   "metadata": {},
   "outputs": [],
   "source": [
    "# Load Train and Test datasets\n",
    "data_train = pd.read_csv('Resources/data_train.csv', index_col=0)\n",
    "data_test = pd.read_csv('Resources/data_test.csv', index_col=0)"
   ]
  },
  {
   "cell_type": "code",
   "execution_count": 3,
   "metadata": {},
   "outputs": [],
   "source": [
    "# Using features from Random Forest model to reduce total number for KNN model\n",
    "important_features = ['step02h_eqparamA', 'step02t_eqparamA', 'step03t_eqparamA',\n",
    "       'step10h_eqparamA', 'step12h_eqparamA', 'step01bt_eqparamB',\n",
    "       'step04t_eqparamB', 'step05t_eqparamB', 'system_state']"
   ]
  },
  {
   "cell_type": "code",
   "execution_count": 4,
   "metadata": {},
   "outputs": [
    {
     "data": {
      "text/html": [
       "<div>\n",
       "<style scoped>\n",
       "    .dataframe tbody tr th:only-of-type {\n",
       "        vertical-align: middle;\n",
       "    }\n",
       "\n",
       "    .dataframe tbody tr th {\n",
       "        vertical-align: top;\n",
       "    }\n",
       "\n",
       "    .dataframe thead th {\n",
       "        text-align: right;\n",
       "    }\n",
       "</style>\n",
       "<table border=\"1\" class=\"dataframe\">\n",
       "  <thead>\n",
       "    <tr style=\"text-align: right;\">\n",
       "      <th></th>\n",
       "      <th>step02h_eqparamA</th>\n",
       "      <th>step02t_eqparamA</th>\n",
       "      <th>step03t_eqparamA</th>\n",
       "      <th>step10h_eqparamA</th>\n",
       "      <th>step12h_eqparamA</th>\n",
       "      <th>step01bt_eqparamB</th>\n",
       "      <th>step04t_eqparamB</th>\n",
       "      <th>step05t_eqparamB</th>\n",
       "      <th>system_state</th>\n",
       "    </tr>\n",
       "  </thead>\n",
       "  <tbody>\n",
       "    <tr>\n",
       "      <th>204</th>\n",
       "      <td>10.206160</td>\n",
       "      <td>5.269793</td>\n",
       "      <td>14.571557</td>\n",
       "      <td>10.359803</td>\n",
       "      <td>9.275444</td>\n",
       "      <td>1.097459</td>\n",
       "      <td>0.727515</td>\n",
       "      <td>0.793088</td>\n",
       "      <td>72.356881</td>\n",
       "    </tr>\n",
       "    <tr>\n",
       "      <th>288</th>\n",
       "      <td>11.594693</td>\n",
       "      <td>12.964035</td>\n",
       "      <td>18.818674</td>\n",
       "      <td>10.000000</td>\n",
       "      <td>11.994222</td>\n",
       "      <td>1.422882</td>\n",
       "      <td>0.702225</td>\n",
       "      <td>0.659266</td>\n",
       "      <td>129.070620</td>\n",
       "    </tr>\n",
       "    <tr>\n",
       "      <th>10</th>\n",
       "      <td>13.908432</td>\n",
       "      <td>9.577346</td>\n",
       "      <td>17.182340</td>\n",
       "      <td>11.961294</td>\n",
       "      <td>8.390811</td>\n",
       "      <td>0.817278</td>\n",
       "      <td>0.668262</td>\n",
       "      <td>0.613816</td>\n",
       "      <td>161.511362</td>\n",
       "    </tr>\n",
       "    <tr>\n",
       "      <th>343</th>\n",
       "      <td>12.587146</td>\n",
       "      <td>9.169558</td>\n",
       "      <td>18.431346</td>\n",
       "      <td>10.873549</td>\n",
       "      <td>13.109344</td>\n",
       "      <td>1.476915</td>\n",
       "      <td>0.763383</td>\n",
       "      <td>0.759087</td>\n",
       "      <td>120.920581</td>\n",
       "    </tr>\n",
       "    <tr>\n",
       "      <th>12</th>\n",
       "      <td>15.121956</td>\n",
       "      <td>11.482360</td>\n",
       "      <td>18.202655</td>\n",
       "      <td>8.266934</td>\n",
       "      <td>4.686747</td>\n",
       "      <td>0.532814</td>\n",
       "      <td>0.598675</td>\n",
       "      <td>0.570682</td>\n",
       "      <td>103.095827</td>\n",
       "    </tr>\n",
       "  </tbody>\n",
       "</table>\n",
       "</div>"
      ],
      "text/plain": [
       "     step02h_eqparamA  step02t_eqparamA  step03t_eqparamA  step10h_eqparamA  \\\n",
       "204         10.206160          5.269793         14.571557         10.359803   \n",
       "288         11.594693         12.964035         18.818674         10.000000   \n",
       "10          13.908432          9.577346         17.182340         11.961294   \n",
       "343         12.587146          9.169558         18.431346         10.873549   \n",
       "12          15.121956         11.482360         18.202655          8.266934   \n",
       "\n",
       "     step12h_eqparamA  step01bt_eqparamB  step04t_eqparamB  step05t_eqparamB  \\\n",
       "204          9.275444           1.097459          0.727515          0.793088   \n",
       "288         11.994222           1.422882          0.702225          0.659266   \n",
       "10           8.390811           0.817278          0.668262          0.613816   \n",
       "343         13.109344           1.476915          0.763383          0.759087   \n",
       "12           4.686747           0.532814          0.598675          0.570682   \n",
       "\n",
       "     system_state  \n",
       "204     72.356881  \n",
       "288    129.070620  \n",
       "10     161.511362  \n",
       "343    120.920581  \n",
       "12     103.095827  "
      ]
     },
     "execution_count": 4,
     "metadata": {},
     "output_type": "execute_result"
    }
   ],
   "source": [
    "# Set target and data for train and test\n",
    "train_target = data_train.system_result\n",
    "train_data = data_train.loc[:,important_features]\n",
    "test_target = data_test.system_result\n",
    "test_data = data_test.loc[:,important_features]\n",
    "train_data.head()"
   ]
  },
  {
   "cell_type": "code",
   "execution_count": 5,
   "metadata": {},
   "outputs": [],
   "source": [
    "# Encoding the output due to 3 possibilities\n",
    "label_encoder = LabelEncoder()\n",
    "label_encoder.fit(train_target)\n",
    "encoded_y = label_encoder.transform(train_target)\n",
    "encoded_y_test = label_encoder.transform(test_target)"
   ]
  },
  {
   "cell_type": "code",
   "execution_count": 6,
   "metadata": {},
   "outputs": [],
   "source": [
    "# Create a StandardScater model and fit it to the training data\n",
    "X_scaler = StandardScaler().fit(train_data)"
   ]
  },
  {
   "cell_type": "code",
   "execution_count": 7,
   "metadata": {},
   "outputs": [],
   "source": [
    "# Transform the training and testing data using the X_scaler\n",
    "X_train_scaled = X_scaler.transform(train_data)\n",
    "X_test_scaled = X_scaler.transform(test_data)"
   ]
  },
  {
   "cell_type": "code",
   "execution_count": 8,
   "metadata": {},
   "outputs": [
    {
     "name": "stdout",
     "output_type": "stream",
     "text": [
      "Test Acc: 0.677\n"
     ]
    }
   ],
   "source": [
    "# Support vector machine linear classifier\n",
    "model = SVC(kernel='linear')\n",
    "model.fit(X_train_scaled, encoded_y)\n",
    "print('Test Acc: %.3f' % model.score(X_test_scaled, encoded_y_test))"
   ]
  },
  {
   "cell_type": "code",
   "execution_count": 9,
   "metadata": {},
   "outputs": [
    {
     "name": "stdout",
     "output_type": "stream",
     "text": [
      "              precision    recall  f1-score   support\n",
      "\n",
      "         Bad       0.66      0.73      0.69        26\n",
      "        Good       0.70      0.70      0.70        33\n",
      "     Warning       0.00      0.00      0.00         3\n",
      "\n",
      "    accuracy                           0.68        62\n",
      "   macro avg       0.45      0.48      0.46        62\n",
      "weighted avg       0.65      0.68      0.66        62\n",
      "\n"
     ]
    },
    {
     "name": "stderr",
     "output_type": "stream",
     "text": [
      "C:\\Users\\Adrianna\\anaconda3\\lib\\site-packages\\sklearn\\metrics\\_classification.py:1318: UndefinedMetricWarning: Precision and F-score are ill-defined and being set to 0.0 in labels with no predicted samples. Use `zero_division` parameter to control this behavior.\n",
      "  _warn_prf(average, modifier, msg_start, len(result))\n",
      "C:\\Users\\Adrianna\\anaconda3\\lib\\site-packages\\sklearn\\metrics\\_classification.py:1318: UndefinedMetricWarning: Precision and F-score are ill-defined and being set to 0.0 in labels with no predicted samples. Use `zero_division` parameter to control this behavior.\n",
      "  _warn_prf(average, modifier, msg_start, len(result))\n",
      "C:\\Users\\Adrianna\\anaconda3\\lib\\site-packages\\sklearn\\metrics\\_classification.py:1318: UndefinedMetricWarning: Precision and F-score are ill-defined and being set to 0.0 in labels with no predicted samples. Use `zero_division` parameter to control this behavior.\n",
      "  _warn_prf(average, modifier, msg_start, len(result))\n"
     ]
    }
   ],
   "source": [
    "target_names = ['Bad','Good','Warning']\n",
    "predictions = model.predict(X_test_scaled)\n",
    "print(classification_report(encoded_y_test, predictions,\n",
    "                            target_names=target_names))"
   ]
  },
  {
   "cell_type": "code",
   "execution_count": 10,
   "metadata": {},
   "outputs": [
    {
     "data": {
      "text/plain": [
       "['svm_linear.sav']"
      ]
     },
     "execution_count": 10,
     "metadata": {},
     "output_type": "execute_result"
    }
   ],
   "source": [
    "# save fitted model to file\n",
    "import joblib\n",
    "filename = 'svm_linear.sav'\n",
    "joblib.dump(model, filename)"
   ]
  },
  {
   "cell_type": "code",
   "execution_count": 11,
   "metadata": {},
   "outputs": [
    {
     "name": "stdout",
     "output_type": "stream",
     "text": [
      "Test Acc: 0.645\n"
     ]
    }
   ],
   "source": [
    "# Support vector machine poly classifier\n",
    "model = SVC(kernel='poly')\n",
    "model.fit(X_train_scaled, encoded_y)\n",
    "print('Test Acc: %.3f' % model.score(X_test_scaled, encoded_y_test))"
   ]
  },
  {
   "cell_type": "code",
   "execution_count": 12,
   "metadata": {},
   "outputs": [
    {
     "name": "stdout",
     "output_type": "stream",
     "text": [
      "              precision    recall  f1-score   support\n",
      "\n",
      "         Bad       0.72      0.50      0.59        26\n",
      "        Good       0.64      0.82      0.72        33\n",
      "     Warning       0.00      0.00      0.00         3\n",
      "\n",
      "    accuracy                           0.65        62\n",
      "   macro avg       0.46      0.44      0.44        62\n",
      "weighted avg       0.65      0.65      0.63        62\n",
      "\n"
     ]
    }
   ],
   "source": [
    "predictions = model.predict(X_test_scaled)\n",
    "print(classification_report(encoded_y_test, predictions,\n",
    "                            target_names=target_names))"
   ]
  },
  {
   "cell_type": "code",
   "execution_count": 13,
   "metadata": {},
   "outputs": [
    {
     "data": {
      "text/plain": [
       "['svm_poly.sav']"
      ]
     },
     "execution_count": 13,
     "metadata": {},
     "output_type": "execute_result"
    }
   ],
   "source": [
    "# save fitted model to file\n",
    "import joblib\n",
    "filename = 'svm_poly.sav'\n",
    "joblib.dump(model, filename)"
   ]
  },
  {
   "cell_type": "code",
   "execution_count": 14,
   "metadata": {},
   "outputs": [
    {
     "name": "stdout",
     "output_type": "stream",
     "text": [
      "Test Acc: 0.726\n"
     ]
    }
   ],
   "source": [
    "# Support vector machine rbf classifier\n",
    "model = SVC(kernel='rbf')\n",
    "model.fit(X_train_scaled, encoded_y)\n",
    "print('Test Acc: %.3f' % model.score(X_test_scaled, encoded_y_test))"
   ]
  },
  {
   "cell_type": "code",
   "execution_count": 15,
   "metadata": {},
   "outputs": [
    {
     "name": "stdout",
     "output_type": "stream",
     "text": [
      "              precision    recall  f1-score   support\n",
      "\n",
      "         Bad       0.71      0.77      0.74        26\n",
      "        Good       0.74      0.76      0.75        33\n",
      "     Warning       0.00      0.00      0.00         3\n",
      "\n",
      "    accuracy                           0.73        62\n",
      "   macro avg       0.48      0.51      0.50        62\n",
      "weighted avg       0.69      0.73      0.71        62\n",
      "\n"
     ]
    },
    {
     "name": "stderr",
     "output_type": "stream",
     "text": [
      "C:\\Users\\Adrianna\\anaconda3\\lib\\site-packages\\sklearn\\metrics\\_classification.py:1318: UndefinedMetricWarning: Precision and F-score are ill-defined and being set to 0.0 in labels with no predicted samples. Use `zero_division` parameter to control this behavior.\n",
      "  _warn_prf(average, modifier, msg_start, len(result))\n",
      "C:\\Users\\Adrianna\\anaconda3\\lib\\site-packages\\sklearn\\metrics\\_classification.py:1318: UndefinedMetricWarning: Precision and F-score are ill-defined and being set to 0.0 in labels with no predicted samples. Use `zero_division` parameter to control this behavior.\n",
      "  _warn_prf(average, modifier, msg_start, len(result))\n",
      "C:\\Users\\Adrianna\\anaconda3\\lib\\site-packages\\sklearn\\metrics\\_classification.py:1318: UndefinedMetricWarning: Precision and F-score are ill-defined and being set to 0.0 in labels with no predicted samples. Use `zero_division` parameter to control this behavior.\n",
      "  _warn_prf(average, modifier, msg_start, len(result))\n"
     ]
    }
   ],
   "source": [
    "predictions = model.predict(X_test_scaled)\n",
    "print(classification_report(encoded_y_test, predictions,\n",
    "                            target_names=target_names))"
   ]
  },
  {
   "cell_type": "code",
   "execution_count": 16,
   "metadata": {},
   "outputs": [
    {
     "data": {
      "text/plain": [
       "['svm_rbf.sav']"
      ]
     },
     "execution_count": 16,
     "metadata": {},
     "output_type": "execute_result"
    }
   ],
   "source": [
    "# save fitted model to file\n",
    "import joblib\n",
    "filename = 'svm_rbf.sav'\n",
    "joblib.dump(model, filename)"
   ]
  },
  {
   "cell_type": "code",
   "execution_count": null,
   "metadata": {},
   "outputs": [],
   "source": []
  }
 ],
 "metadata": {
  "kernelspec": {
   "display_name": "Python 3 (ipykernel)",
   "language": "python",
   "name": "python3"
  },
  "language_info": {
   "codemirror_mode": {
    "name": "ipython",
    "version": 3
   },
   "file_extension": ".py",
   "mimetype": "text/x-python",
   "name": "python",
   "nbconvert_exporter": "python",
   "pygments_lexer": "ipython3",
   "version": "3.9.12"
  }
 },
 "nbformat": 4,
 "nbformat_minor": 2
}
